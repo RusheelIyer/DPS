{
 "cells": [
  {
   "cell_type": "code",
   "execution_count": 1,
   "id": "79865b90",
   "metadata": {},
   "outputs": [],
   "source": [
    "import pandas as pd\n",
    "import numpy as np\n",
    "import matplotlib.pyplot as plt\n",
    "import seaborn as sns"
   ]
  },
  {
   "cell_type": "code",
   "execution_count": 135,
   "id": "6242712c",
   "metadata": {},
   "outputs": [
    {
     "name": "stdout",
     "output_type": "stream",
     "text": [
      "<class 'pandas.core.frame.DataFrame'>\n",
      "RangeIndex: 1911 entries, 0 to 1910\n",
      "Data columns (total 9 columns):\n",
      " #   Column                          Non-Null Count  Dtype  \n",
      "---  ------                          --------------  -----  \n",
      " 0   MONATSZAHL                      1911 non-null   object \n",
      " 1   AUSPRAEGUNG                     1911 non-null   object \n",
      " 2   JAHR                            1911 non-null   int64  \n",
      " 3   MONAT                           1911 non-null   object \n",
      " 4   WERT                            1911 non-null   float64\n",
      " 5   VORJAHRESWERT                   1820 non-null   float64\n",
      " 6   VERAEND_VORMONAT_PROZENT        1756 non-null   float64\n",
      " 7   VERAEND_VORJAHRESMONAT_PROZENT  1819 non-null   float64\n",
      " 8   ZWOELF_MONATE_MITTELWERT        1764 non-null   float64\n",
      "dtypes: float64(5), int64(1), object(3)\n",
      "memory usage: 134.5+ KB\n"
     ]
    }
   ],
   "source": [
    "df = pd.read_csv(\"data/accidents.csv\")\n",
    "\n",
    "# Get rid of values after 2020\n",
    "df = df[df.JAHR < 2021].reset_index().drop(\"index\", axis=1)\n",
    "\n",
    "df.info()"
   ]
  },
  {
   "cell_type": "markdown",
   "id": "333704e6",
   "metadata": {},
   "source": [
    "# Missing Value Analysis\n",
    "\n",
    "There are no unexplained missing values."
   ]
  },
  {
   "cell_type": "code",
   "execution_count": 136,
   "id": "37ada037",
   "metadata": {},
   "outputs": [
    {
     "name": "stdout",
     "output_type": "stream",
     "text": [
      "{'VORJAHRESWERT': 819, 'VERAEND_VORMONAT_PROZENT': 1395, 'VERAEND_VORJAHRESMONAT_PROZENT': 828, 'ZWOELF_MONATE_MITTELWERT': 1323}\n"
     ]
    }
   ],
   "source": [
    "# Check each column for nulls\n",
    "\n",
    "na_cols = {}\n",
    "for col in df.columns:\n",
    "    empty_rows = df[df[col].isna()]\n",
    "    if (empty_rows.size >0):\n",
    "        na_cols[col] = empty_rows.size\n",
    "        \n",
    "print(na_cols)"
   ]
  },
  {
   "cell_type": "code",
   "execution_count": 137,
   "id": "aacfaba5",
   "metadata": {},
   "outputs": [
    {
     "name": "stdout",
     "output_type": "stream",
     "text": [
      "[2000]\n",
      "2000\n",
      "---------------------------------------------------------------------------------\n",
      "['Summe' '200001' '201303']\n",
      "         MONATSZAHL             AUSPRAEGUNG  JAHR   MONAT  WERT  \\\n",
      "366  Alkoholunfälle  Verletzte und Getötete  2013  201302   0.0   \n",
      "367  Alkoholunfälle  Verletzte und Getötete  2013  201303   8.0   \n",
      "\n",
      "     VORJAHRESWERT  VERAEND_VORMONAT_PROZENT  VERAEND_VORJAHRESMONAT_PROZENT  \\\n",
      "366            5.0                    -100.0                          -100.0   \n",
      "367            5.0                       NaN                            60.0   \n",
      "\n",
      "     ZWOELF_MONATE_MITTELWERT  \n",
      "366                      17.0  \n",
      "367                      18.0  \n",
      "---------------------------------------------------------------------------------\n",
      "['Summe' '200001' '200002' '200003' '200004' '200005' '200006' '200007'\n",
      " '200008' '200009' '200010' '200011' '200012' '201402']\n",
      "---------------------------------------------------------------------------------\n"
     ]
    },
    {
     "data": {
      "text/plain": [
       "array(['Summe'], dtype=object)"
      ]
     },
     "execution_count": 137,
     "metadata": {},
     "output_type": "execute_result"
    }
   ],
   "source": [
    "# Analyse NA values\n",
    "\n",
    "# VORJAHRESWERT\n",
    "print(df[df.VORJAHRESWERT.isna()].JAHR.unique()) # all values from 2000\n",
    "print(df.JAHR.min()) # because 2000 is the first year on record\n",
    "\n",
    "# VERAEND_VORMONAT_PROZENT\n",
    "print(\"---------------------------------------------------------------------------------\")\n",
    "print(df[df.VERAEND_VORMONAT_PROZENT.isna()].MONAT.unique())\n",
    "# Logical for yearly sum\n",
    "# Jan. 2020 first month on record\n",
    "# 2013/02 had no injured\n",
    "print(df[((df.MONAT == \"201303\") | (df.MONAT == \"201302\")) & (df.AUSPRAEGUNG == \"Verletzte und Getötete\")& (df.MONATSZAHL == \"Alkoholunfälle\")])\n",
    "\n",
    "# VERAEND_VORJAHRESMONAT_PROZENT\n",
    "print(\"---------------------------------------------------------------------------------\")\n",
    "print(df[df.VERAEND_VORJAHRESMONAT_PROZENT.isna()].MONAT.unique())\n",
    "# 2020 first year on record\n",
    "# 2013/02 had no injured\n",
    "\n",
    "# ZWOELF_MONATE_MITTELWERT\n",
    "print(\"---------------------------------------------------------------------------------\")\n",
    "df[df.ZWOELF_MONATE_MITTELWERT.isna()].MONAT.unique() # Only for sum rows"
   ]
  },
  {
   "cell_type": "markdown",
   "id": "e53b22e3",
   "metadata": {},
   "source": [
    "# Tidy Data"
   ]
  },
  {
   "cell_type": "code",
   "execution_count": 144,
   "id": "b31c1df4",
   "metadata": {},
   "outputs": [
    {
     "data": {
      "text/html": [
       "<div>\n",
       "<style scoped>\n",
       "    .dataframe tbody tr th:only-of-type {\n",
       "        vertical-align: middle;\n",
       "    }\n",
       "\n",
       "    .dataframe tbody tr th {\n",
       "        vertical-align: top;\n",
       "    }\n",
       "\n",
       "    .dataframe thead th {\n",
       "        text-align: right;\n",
       "    }\n",
       "</style>\n",
       "<table border=\"1\" class=\"dataframe\">\n",
       "  <thead>\n",
       "    <tr style=\"text-align: right;\">\n",
       "      <th></th>\n",
       "      <th>MONATSZAHL</th>\n",
       "      <th>AUSPRAEGUNG</th>\n",
       "      <th>JAHR</th>\n",
       "      <th>MONAT</th>\n",
       "      <th>WERT</th>\n",
       "      <th>VORJAHRESWERT</th>\n",
       "      <th>VERAEND_VORMONAT_PROZENT</th>\n",
       "      <th>VERAEND_VORJAHRESMONAT_PROZENT</th>\n",
       "      <th>ZWOELF_MONATE_MITTELWERT</th>\n",
       "    </tr>\n",
       "  </thead>\n",
       "  <tbody>\n",
       "    <tr>\n",
       "      <th>0</th>\n",
       "      <td>Alkoholunfälle</td>\n",
       "      <td>insgesamt</td>\n",
       "      <td>2020</td>\n",
       "      <td>Summe</td>\n",
       "      <td>430.0</td>\n",
       "      <td>434.0</td>\n",
       "      <td>NaN</td>\n",
       "      <td>-0.92</td>\n",
       "      <td>NaN</td>\n",
       "    </tr>\n",
       "    <tr>\n",
       "      <th>1</th>\n",
       "      <td>Alkoholunfälle</td>\n",
       "      <td>insgesamt</td>\n",
       "      <td>2020</td>\n",
       "      <td>January</td>\n",
       "      <td>28.0</td>\n",
       "      <td>22.0</td>\n",
       "      <td>-20.00</td>\n",
       "      <td>27.27</td>\n",
       "      <td>37.0</td>\n",
       "    </tr>\n",
       "    <tr>\n",
       "      <th>2</th>\n",
       "      <td>Alkoholunfälle</td>\n",
       "      <td>insgesamt</td>\n",
       "      <td>2020</td>\n",
       "      <td>February</td>\n",
       "      <td>40.0</td>\n",
       "      <td>28.0</td>\n",
       "      <td>42.86</td>\n",
       "      <td>42.86</td>\n",
       "      <td>38.0</td>\n",
       "    </tr>\n",
       "    <tr>\n",
       "      <th>3</th>\n",
       "      <td>Alkoholunfälle</td>\n",
       "      <td>insgesamt</td>\n",
       "      <td>2020</td>\n",
       "      <td>March</td>\n",
       "      <td>27.0</td>\n",
       "      <td>34.0</td>\n",
       "      <td>-32.50</td>\n",
       "      <td>-20.59</td>\n",
       "      <td>37.0</td>\n",
       "    </tr>\n",
       "    <tr>\n",
       "      <th>4</th>\n",
       "      <td>Alkoholunfälle</td>\n",
       "      <td>insgesamt</td>\n",
       "      <td>2020</td>\n",
       "      <td>April</td>\n",
       "      <td>26.0</td>\n",
       "      <td>36.0</td>\n",
       "      <td>-3.70</td>\n",
       "      <td>-27.78</td>\n",
       "      <td>36.0</td>\n",
       "    </tr>\n",
       "  </tbody>\n",
       "</table>\n",
       "</div>"
      ],
      "text/plain": [
       "       MONATSZAHL AUSPRAEGUNG  JAHR     MONAT   WERT  VORJAHRESWERT  \\\n",
       "0  Alkoholunfälle   insgesamt  2020     Summe  430.0          434.0   \n",
       "1  Alkoholunfälle   insgesamt  2020   January   28.0           22.0   \n",
       "2  Alkoholunfälle   insgesamt  2020  February   40.0           28.0   \n",
       "3  Alkoholunfälle   insgesamt  2020     March   27.0           34.0   \n",
       "4  Alkoholunfälle   insgesamt  2020     April   26.0           36.0   \n",
       "\n",
       "   VERAEND_VORMONAT_PROZENT  VERAEND_VORJAHRESMONAT_PROZENT  \\\n",
       "0                       NaN                           -0.92   \n",
       "1                    -20.00                           27.27   \n",
       "2                     42.86                           42.86   \n",
       "3                    -32.50                          -20.59   \n",
       "4                     -3.70                          -27.78   \n",
       "\n",
       "   ZWOELF_MONATE_MITTELWERT  \n",
       "0                       NaN  \n",
       "1                      37.0  \n",
       "2                      38.0  \n",
       "3                      37.0  \n",
       "4                      36.0  "
      ]
     },
     "execution_count": 144,
     "metadata": {},
     "output_type": "execute_result"
    }
   ],
   "source": [
    "def convert_months(digits):\n",
    "    months = {\n",
    "        \"01\": \"January\",\n",
    "        \"02\": \"February\",\n",
    "        \"03\": \"March\",\n",
    "        \"04\": \"April\",\n",
    "        \"05\": \"May\",\n",
    "        \"06\": \"June\",\n",
    "        \"07\": \"July\",\n",
    "        \"08\": \"August\",\n",
    "        \"09\": \"September\",\n",
    "        \"10\": \"October\",\n",
    "        \"11\": \"November\",\n",
    "        \"12\": \"December\"\n",
    "    }\n",
    "    \n",
    "    if(digits != \"Summe\"):\n",
    "        return months[digits[-2:]]\n",
    "    return digits\n",
    "\n",
    "df[\"MONAT\"] = df[\"MONAT\"].apply(convert_months)\n",
    "\n",
    "df.head()"
   ]
  },
  {
   "cell_type": "markdown",
   "id": "8028bc36",
   "metadata": {},
   "source": [
    "# Visualisation"
   ]
  },
  {
   "cell_type": "code",
   "execution_count": 5,
   "id": "a8a9f8b5",
   "metadata": {},
   "outputs": [
    {
     "data": {
      "text/plain": [
       "<seaborn.axisgrid.FacetGrid at 0x7fceef8e61f0>"
      ]
     },
     "execution_count": 5,
     "metadata": {},
     "output_type": "execute_result"
    },
    {
     "data": {
      "image/png": "[encoded data removed]",
      "text/plain": [
       "<Figure size 648x216 with 3 Axes>"
      ]
     },
     "metadata": {
      "needs_background": "light"
     },
     "output_type": "display_data"
    }
   ],
   "source": [
    "g = sns.FacetGrid(df, col=\"MONATSZAHL\")\n",
    "\n",
    "g.map(sns.scatterplot, \"JAHR\", \"WERT\")"
   ]
  },
  {
   "cell_type": "code",
   "execution_count": 8,
   "id": "6436a157",
   "metadata": {},
   "outputs": [
    {
     "data": {
      "image/png": "[encoded data removed]",
      "text/plain": [
       "<Figure size 432x288 with 1 Axes>"
      ]
     },
     "metadata": {
      "needs_background": "light"
     },
     "output_type": "display_data"
    }
   ],
   "source": [
    "plt.hist(\"WERT\", data=df)\n",
    "plt.show()"
   ]
  },
  {
   "cell_type": "code",
   "execution_count": null,
   "id": "c4cb62c3",
   "metadata": {},
   "outputs": [],
   "source": []
  }
 ],
 "metadata": {
  "kernelspec": {
   "display_name": "Python 3 (ipykernel)",
   "language": "python",
   "name": "python3"
  },
  "language_info": {
   "codemirror_mode": {
    "name": "ipython",
    "version": 3
   },
   "file_extension": ".py",
   "mimetype": "text/x-python",
   "name": "python",
   "nbconvert_exporter": "python",
   "pygments_lexer": "ipython3",
   "version": "3.8.12"
  }
 },
 "nbformat": 4,
 "nbformat_minor": 5
}
